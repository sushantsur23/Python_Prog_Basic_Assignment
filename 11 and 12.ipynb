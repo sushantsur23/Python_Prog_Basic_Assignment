{
 "cells": [
  {
   "cell_type": "markdown",
   "metadata": {},
   "source": [
    "Assignment 11"
   ]
  },
  {
   "cell_type": "code",
   "execution_count": null,
   "metadata": {},
   "outputs": [],
   "source": [
    "1.\tWrite a Python program to find words which are greater than given length k"
   ]
  },
  {
   "cell_type": "code",
   "execution_count": 2,
   "metadata": {},
   "outputs": [
    {
     "name": "stdout",
     "output_type": "stream",
     "text": [
      "element counted \n"
     ]
    }
   ],
   "source": [
    "k = 5\n",
    "st=\"\"\n",
    "ch = \"the element to be counted needs to be given\"\n",
    "for i in ch.split(sep=\" \"):\n",
    "    if (len(i)>k ):\n",
    "        st=st+i+\" \"\n",
    "print(st)"
   ]
  },
  {
   "cell_type": "code",
   "execution_count": null,
   "metadata": {},
   "outputs": [],
   "source": [
    "2.\tWrite a Python program for removing i-th character from a string"
   ]
  },
  {
   "cell_type": "code",
   "execution_count": 4,
   "metadata": {},
   "outputs": [
    {
     "name": "stdout",
     "output_type": "stream",
     "text": [
      "conted\n"
     ]
    }
   ],
   "source": [
    "st=\"counted\"\n",
    "st1=\"\"\n",
    "i = 2\n",
    "rem=(st[i])\n",
    "for i in st:\n",
    "    if i ==rem:\n",
    "        i=\"\"\n",
    "    else:\n",
    "        st1=st1+i\n",
    "        \n",
    "print(st1)"
   ]
  },
  {
   "cell_type": "code",
   "execution_count": null,
   "metadata": {},
   "outputs": [],
   "source": [
    "3.\tWrite a Python program to split and join a string"
   ]
  },
  {
   "cell_type": "code",
   "execution_count": 6,
   "metadata": {},
   "outputs": [
    {
     "name": "stdout",
     "output_type": "stream",
     "text": [
      "Joining 2 string\n",
      "Let’s convert the list to Iterable and check if each entry of iterable is equal to first element of list\n",
      "splitting a string\n",
      "Let’s\n",
      "convert\n",
      "the\n",
      "list\n",
      "to\n",
      "Iterable\n"
     ]
    }
   ],
   "source": [
    "st1 =\"Let’s convert the list to Iterable \"\n",
    "st2=\"and check if each entry of iterable is equal to first element of list\"\n",
    "print(\"Joining 2 string\")\n",
    "print(st1+st2)\n",
    "print(\"splitting a string\")\n",
    "for i in st1.split():\n",
    "    print(i)\n"
   ]
  },
  {
   "cell_type": "code",
   "execution_count": null,
   "metadata": {},
   "outputs": [],
   "source": [
    "4.\tWrite a Python to check if a given string is binary string or not"
   ]
  },
  {
   "cell_type": "code",
   "execution_count": 8,
   "metadata": {},
   "outputs": [
    {
     "name": "stdout",
     "output_type": "stream",
     "text": [
      "{'1', '0'}\n",
      "{'1', '0'} is binary string\n"
     ]
    }
   ],
   "source": [
    "st1= '01001001110'\n",
    "b={'0','1'}\n",
    "st2=set(st1)\n",
    "print(st2)\n",
    "if st2 ==b or st2 =='1' or st2 =='0':\n",
    "    print(st2,\"is binary string\")\n",
    "else:\n",
    "    print(st2,\"is not binary string\")"
   ]
  },
  {
   "cell_type": "code",
   "execution_count": null,
   "metadata": {},
   "outputs": [],
   "source": [
    "5.\tWrite a Python program to find uncommon words from two Strings"
   ]
  },
  {
   "cell_type": "code",
   "execution_count": 10,
   "metadata": {},
   "outputs": [
    {
     "name": "stdout",
     "output_type": "stream",
     "text": [
      "list to \n"
     ]
    }
   ],
   "source": [
    "st1 =\"Let’s convert the list to Iterable \"\n",
    "st2=\"and check if each entry of iterable is equal to first element of list\"\n",
    "uncom = \"\"\n",
    "for i in st1.split():\n",
    "    for j in st2.split():\n",
    "        if i== j:\n",
    "            uncom = uncom+i+\" \"\n",
    "print(uncom)"
   ]
  },
  {
   "cell_type": "code",
   "execution_count": null,
   "metadata": {},
   "outputs": [],
   "source": [
    "6.\tWrite a Python to find all duplicate characters in string"
   ]
  },
  {
   "cell_type": "code",
   "execution_count": 20,
   "metadata": {},
   "outputs": [
    {
     "name": "stdout",
     "output_type": "stream",
     "text": [
      "  is repeated  5 times\n",
      "e is repeated  5 times\n",
      "l is repeated  2 times\n",
      "o is repeated  2 times\n",
      "r is repeated  2 times\n",
      "s is repeated  2 times\n",
      "t is repeated  6 times\n"
     ]
    }
   ],
   "source": [
    "st1 =\"Let’s convert the list to Iterable\"\n",
    "st3=\"\"\n",
    "st1.replace(\" \",\"\")\n",
    "for i in sorted(set(st1)):\n",
    "    c=st1.count(i)\n",
    "    if st1.count(i)>1:\n",
    "        print(i, \"is repeated \",c,\"times\")"
   ]
  },
  {
   "cell_type": "code",
   "execution_count": null,
   "metadata": {},
   "outputs": [],
   "source": [
    "st1 =\"Let’s convert the list to Iterable\"\n",
    "st3=\"\"\n",
    "for i in st1:\n",
    "    if i!=\" \":\n",
    "        st3=st3+i+\",\"\n",
    "st3=\"\".join(sorted(st3))\n",
    "print(st3)\n",
    "dup=''\n",
    "for i in range (0,len(st3)):\n",
    "    if st3[i]== st3[i+1]:\n",
    "        dup=dup+st3[i]+','\n",
    "\n",
    "dup=set(dup)\n",
    "print(dup)"
   ]
  },
  {
   "cell_type": "code",
   "execution_count": null,
   "metadata": {},
   "outputs": [],
   "source": [
    "7.\tWrite a Python Program to check if a string contains any special character?"
   ]
  },
  {
   "cell_type": "code",
   "execution_count": null,
   "metadata": {},
   "outputs": [],
   "source": [
    "st1 =\"Let’s convert the list to Iterable!@#\"\n",
    "for i in st1:\n",
    "    if (ord(i)>=31 and ord(i)<=47) or (ord(i)>=58 and ord(i)<=64) or (ord(i)>=91 and ord(i)<=96) or (ord(i)>=123 and ord(i)<=126) and (i!=\" \"):\n",
    "        print(i)"
   ]
  },
  {
   "cell_type": "markdown",
   "metadata": {},
   "source": [
    "Assignment 12"
   ]
  },
  {
   "cell_type": "code",
   "execution_count": null,
   "metadata": {},
   "outputs": [],
   "source": [
    "1.\tWrite a Python program to Extract Unique values dictionary values?"
   ]
  },
  {
   "cell_type": "code",
   "execution_count": 13,
   "metadata": {},
   "outputs": [
    {
     "name": "stdout",
     "output_type": "stream",
     "text": [
      "['Ram', 'Shyam', 'Sukesh']\n"
     ]
    }
   ],
   "source": [
    "dic={\"A\":\"Ram\",\"B\":\"Shyam\",\"C\":\"Ram\",\"D\":\"Sukesh\",\"E\":\"Ram\"}\n",
    "l =[]\n",
    "for i in dic.values():\n",
    "    if i in l:\n",
    "        continue \n",
    "    else:\n",
    "        l.append(i)\n",
    "print(l)"
   ]
  },
  {
   "cell_type": "code",
   "execution_count": null,
   "metadata": {},
   "outputs": [],
   "source": [
    "2.\tWrite a Python program to find the sum of all items in a dictionary?"
   ]
  },
  {
   "cell_type": "code",
   "execution_count": 14,
   "metadata": {},
   "outputs": [
    {
     "name": "stdout",
     "output_type": "stream",
     "text": [
      "[('A', 'Ram'), ('B', 'Shyam'), ('C', 'Ram'), ('D', 'Sukesh'), ('E', 'Ram')]\n"
     ]
    }
   ],
   "source": [
    "dic={\"A\":\"Ram\",\"B\":\"Shyam\",\"C\":\"Ram\",\"D\":\"Sukesh\",\"E\":\"Ram\"}\n",
    "l=[]\n",
    "for i in dic.items():\n",
    "    l.append(i)\n",
    "print(l)\n"
   ]
  },
  {
   "cell_type": "code",
   "execution_count": null,
   "metadata": {},
   "outputs": [],
   "source": [
    "3.\tWrite a Python program to Merging two Dictionaries?"
   ]
  },
  {
   "cell_type": "code",
   "execution_count": 3,
   "metadata": {},
   "outputs": [
    {
     "name": "stdout",
     "output_type": "stream",
     "text": [
      "{'a': 1, 'b': 10, 'c': 11}\n"
     ]
    }
   ],
   "source": [
    "x = {'a': 1, 'b': 2}\n",
    "y = {'b': 10, 'c': 11}\n",
    "x.update(y)\n",
    "print(x)"
   ]
  },
  {
   "cell_type": "code",
   "execution_count": null,
   "metadata": {},
   "outputs": [],
   "source": [
    "4.\tWrite a Python program to convert key-values list to flat dictionary?"
   ]
  },
  {
   "cell_type": "code",
   "execution_count": 4,
   "metadata": {},
   "outputs": [
    {
     "name": "stdout",
     "output_type": "stream",
     "text": [
      "{'Jan': 1, 'Feb': 2, 'Mar': 3}\n"
     ]
    }
   ],
   "source": [
    "x ={'Name':['Jan','Feb','Mar'], 'month':[1,2,3]}\n",
    "result =dict(zip(x['Name'],x['month']))\n",
    "print(result)"
   ]
  },
  {
   "cell_type": "code",
   "execution_count": null,
   "metadata": {},
   "outputs": [],
   "source": [
    "5.\tWrite a Python program to insertion at the beginning in OrderedDict?"
   ]
  },
  {
   "cell_type": "code",
   "execution_count": 6,
   "metadata": {},
   "outputs": [
    {
     "name": "stdout",
     "output_type": "stream",
     "text": [
      "OrderedDict([('banana', 'green'), ('orange', 'yellow')])\n"
     ]
    }
   ],
   "source": [
    "from collections import OrderedDict\n",
    "od =OrderedDict()\n",
    "od.update({'orange':'yellow','banana':'green'})\n",
    "\n",
    "od.move_to_end('banana', last=False)\n",
    "print(od)"
   ]
  },
  {
   "cell_type": "code",
   "execution_count": null,
   "metadata": {},
   "outputs": [],
   "source": [
    "6.\tWrite a Python program to check order of character in string using OrderedDict()?"
   ]
  },
  {
   "cell_type": "code",
   "execution_count": 12,
   "metadata": {},
   "outputs": [
    {
     "data": {
      "text/plain": [
       "False"
      ]
     },
     "execution_count": 12,
     "metadata": {},
     "output_type": "execute_result"
    }
   ],
   "source": [
    "def check(string,pattern):\n",
    "    pat = 0\n",
    "    dic = OrderedDict.fromkeys(string)\n",
    "    for k,v in dic.items():\n",
    "        if k ==pattern[pat]:\n",
    "            pat+=1\n",
    "        if pat ==len(pattern):\n",
    "            return True\n",
    "        else:\n",
    "            return False\n",
    "check('Hi Mark','Ma')\n",
    "    \n",
    "    "
   ]
  },
  {
   "cell_type": "code",
   "execution_count": 13,
   "metadata": {},
   "outputs": [
    {
     "data": {
      "text/plain": [
       "False"
      ]
     },
     "execution_count": 13,
     "metadata": {},
     "output_type": "execute_result"
    }
   ],
   "source": [
    "check('Content is Kind','Cf')"
   ]
  },
  {
   "cell_type": "code",
   "execution_count": null,
   "metadata": {},
   "outputs": [],
   "source": [
    "7.\tWrite a Python program to sort Python Dictionaries by Key or Value?"
   ]
  },
  {
   "cell_type": "code",
   "execution_count": 15,
   "metadata": {},
   "outputs": [
    {
     "name": "stdout",
     "output_type": "stream",
     "text": [
      "A\n",
      "C\n",
      "E\n",
      "M\n",
      "R\n"
     ]
    }
   ],
   "source": [
    "dic={\"A\":\"Ram\",\"E\":\"Shyam\",\"M\":\"Harish\",\"C\":\"Sukesh\",\"R\":\"Karan\"}\n",
    "for i in sorted (dic.keys()):\n",
    "    print(i)"
   ]
  },
  {
   "cell_type": "code",
   "execution_count": null,
   "metadata": {},
   "outputs": [],
   "source": []
  },
  {
   "cell_type": "code",
   "execution_count": null,
   "metadata": {},
   "outputs": [],
   "source": []
  },
  {
   "cell_type": "code",
   "execution_count": null,
   "metadata": {},
   "outputs": [],
   "source": []
  },
  {
   "cell_type": "code",
   "execution_count": null,
   "metadata": {},
   "outputs": [],
   "source": []
  },
  {
   "cell_type": "code",
   "execution_count": null,
   "metadata": {},
   "outputs": [],
   "source": []
  }
 ],
 "metadata": {
  "kernelspec": {
   "display_name": "Python 3",
   "language": "python",
   "name": "python3"
  },
  "language_info": {
   "codemirror_mode": {
    "name": "ipython",
    "version": 3
   },
   "file_extension": ".py",
   "mimetype": "text/x-python",
   "name": "python",
   "nbconvert_exporter": "python",
   "pygments_lexer": "ipython3",
   "version": "3.8.5"
  }
 },
 "nbformat": 4,
 "nbformat_minor": 4
}
