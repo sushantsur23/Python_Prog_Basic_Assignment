{
 "cells": [
  {
   "cell_type": "markdown",
   "metadata": {},
   "source": [
    "Assignment 9"
   ]
  },
  {
   "cell_type": "code",
   "execution_count": 1,
   "metadata": {},
   "outputs": [
    {
     "name": "stdout",
     "output_type": "stream",
     "text": [
      "Enter a number to check if its disarium number 175\n",
      "this is a disarium number\n"
     ]
    }
   ],
   "source": [
    "#1.\tWrite a Python program to check if the given number is a Disarium Number?\n",
    "import math\n",
    "n = int(input(\"Enter a number to check if its disarium number \"))\n",
    "sum =0\n",
    "a = n\n",
    "l= len(str(n))\n",
    "while(a>0):\n",
    "    rem=a%10\n",
    "    sum = sum+(rem**l)\n",
    "    l=l-1\n",
    "    a=a//10\n",
    "\n",
    "if n==sum:\n",
    "    print('this is a disarium number')\n",
    "else:\n",
    "    print('this is not a disarium number')"
   ]
  },
  {
   "cell_type": "code",
   "execution_count": 2,
   "metadata": {},
   "outputs": [
    {
     "name": "stdout",
     "output_type": "stream",
     "text": [
      "1 is a disarium number\n",
      "2 is a disarium number\n",
      "3 is a disarium number\n",
      "4 is a disarium number\n",
      "5 is a disarium number\n",
      "6 is a disarium number\n",
      "7 is a disarium number\n",
      "8 is a disarium number\n",
      "9 is a disarium number\n",
      "89 is a disarium number\n"
     ]
    }
   ],
   "source": [
    "#2.\tWrite a Python program to print all disarium numbers between 1 to 100?\n",
    "for i in range(1,100):\n",
    "    sum =0\n",
    "    a = i\n",
    "    l= len(str(i))\n",
    "    while(a>0):\n",
    "        rem=a%10\n",
    "        sum = sum+(rem**l)\n",
    "        l=l-1\n",
    "        a=a//10\n",
    "        \n",
    "    if i ==sum:\n",
    "        print(i, 'is a disarium number')\n",
    "    else:\n",
    "        continue"
   ]
  },
  {
   "cell_type": "code",
   "execution_count": 48,
   "metadata": {},
   "outputs": [
    {
     "ename": "NameError",
     "evalue": "name 'Happy' is not defined",
     "output_type": "error",
     "traceback": [
      "\u001b[1;31m---------------------------------------------------------------------------\u001b[0m",
      "\u001b[1;31mNameError\u001b[0m                                 Traceback (most recent call last)",
      "\u001b[1;32m<ipython-input-48-c16b63bf73df>\u001b[0m in \u001b[0;36m<module>\u001b[1;34m\u001b[0m\n\u001b[0;32m     10\u001b[0m \u001b[0mresult\u001b[0m \u001b[1;33m=\u001b[0m\u001b[0mnum\u001b[0m\u001b[1;33m\u001b[0m\u001b[1;33m\u001b[0m\u001b[0m\n\u001b[0;32m     11\u001b[0m \u001b[1;32mwhile\u001b[0m\u001b[1;33m(\u001b[0m\u001b[0mresult\u001b[0m \u001b[1;33m!=\u001b[0m \u001b[1;36m1\u001b[0m \u001b[1;32mand\u001b[0m \u001b[0mresult\u001b[0m \u001b[1;33m!=\u001b[0m \u001b[1;36m4\u001b[0m\u001b[1;33m)\u001b[0m\u001b[1;33m:\u001b[0m\u001b[1;33m\u001b[0m\u001b[1;33m\u001b[0m\u001b[0m\n\u001b[1;32m---> 12\u001b[1;33m     \u001b[0mresult\u001b[0m \u001b[1;33m=\u001b[0m \u001b[0mHappy\u001b[0m\u001b[1;33m(\u001b[0m\u001b[0mresult\u001b[0m\u001b[1;33m)\u001b[0m\u001b[1;33m\u001b[0m\u001b[1;33m\u001b[0m\u001b[0m\n\u001b[0m\u001b[0;32m     13\u001b[0m \u001b[1;33m\u001b[0m\u001b[0m\n\u001b[0;32m     14\u001b[0m \u001b[1;32mif\u001b[0m \u001b[0mresult\u001b[0m \u001b[1;33m==\u001b[0m\u001b[1;36m1\u001b[0m\u001b[1;33m:\u001b[0m\u001b[1;33m\u001b[0m\u001b[1;33m\u001b[0m\u001b[0m\n",
      "\u001b[1;31mNameError\u001b[0m: name 'Happy' is not defined"
     ]
    }
   ],
   "source": [
    "#3.\tWrite a Python program to check if the given number is Happy Number?\n",
    "def happy(num):\n",
    "    rem =s=0\n",
    "    while (num>0):\n",
    "        rem=num%10\n",
    "        s=s+(rem*rem)\n",
    "        num=num//10\n",
    "        return s\n",
    "num=35\n",
    "result =num\n",
    "while(result != 1 and result != 4):\n",
    "    result = Happy(result)   \n",
    "\n",
    "if result ==1:\n",
    "    print(str(num),'is a happy number ')\n",
    "elif(result ==4):\n",
    "    print(str(num),'is a happy number ')"
   ]
  },
  {
   "cell_type": "code",
   "execution_count": 36,
   "metadata": {},
   "outputs": [
    {
     "data": {
      "text/plain": [
       "7"
      ]
     },
     "execution_count": 36,
     "metadata": {},
     "output_type": "execute_result"
    }
   ],
   "source": [
    "78//10"
   ]
  },
  {
   "cell_type": "code",
   "execution_count": 4,
   "metadata": {},
   "outputs": [],
   "source": [
    "#4.\tWrite a Python program to print all happy numbers between 1 and 100?"
   ]
  },
  {
   "cell_type": "code",
   "execution_count": 5,
   "metadata": {},
   "outputs": [
    {
     "name": "stdout",
     "output_type": "stream",
     "text": [
      "156 is an Harshad number\n"
     ]
    }
   ],
   "source": [
    "#5.\tWrite a Python program to determine whether the given number is a Harshad Number?\n",
    "n=156\n",
    "a=n\n",
    "s = 0\n",
    "while(n>0):\n",
    "    s=s+(n%10)\n",
    "    n=n//10\n",
    "if (n%s==0):\n",
    "    print(a,'is an Harshad number')\n",
    "else:\n",
    "    print(a,'is not an Harshad number')"
   ]
  },
  {
   "cell_type": "code",
   "execution_count": 39,
   "metadata": {},
   "outputs": [
    {
     "name": "stdout",
     "output_type": "stream",
     "text": [
      "pronic numbers are\n",
      "2 6 12 20 30 42 56 72 90 110 132 156 182 210 240 272 306 342 380 420 462 506 552 600 650 702 756 812 870 930 992 "
     ]
    }
   ],
   "source": [
    "#6.\tWrite a Python program to print all pronic numbers between 1 and 100?\n",
    "def pronic(n):\n",
    "       \n",
    "    f = False\n",
    "    for i in range(1,n):\n",
    "        if i * (i + 1) == n:\n",
    "            f = True\n",
    "            break;\n",
    "    return f\n",
    "print(\"pronic numbers are\")\n",
    "for j in range(1,1001):\n",
    "    if pronic(j)==True:\n",
    "        print(j,end=' ')"
   ]
  },
  {
   "cell_type": "markdown",
   "metadata": {},
   "source": [
    "Assignment 10"
   ]
  },
  {
   "cell_type": "code",
   "execution_count": 7,
   "metadata": {},
   "outputs": [
    {
     "name": "stdout",
     "output_type": "stream",
     "text": [
      "10\n"
     ]
    }
   ],
   "source": [
    "#1.\tWrite a Python program to find sum of elements in list?\n",
    "l1 =[1,2,3,4]\n",
    "s=0\n",
    "for i in l1:\n",
    "    s=s+i\n",
    "print(s)"
   ]
  },
  {
   "cell_type": "code",
   "execution_count": 8,
   "metadata": {},
   "outputs": [
    {
     "name": "stdout",
     "output_type": "stream",
     "text": [
      "120\n"
     ]
    }
   ],
   "source": [
    "#2.\tWrite a Python program to  Multiply all numbers in the list?\n",
    "l2=[2,3,4,5]\n",
    "m=1\n",
    "for i in l2:\n",
    "    m= m*i\n",
    "print(m)"
   ]
  },
  {
   "cell_type": "code",
   "execution_count": 9,
   "metadata": {},
   "outputs": [
    {
     "name": "stdout",
     "output_type": "stream",
     "text": [
      "2\n"
     ]
    }
   ],
   "source": [
    "#3.\tWrite a Python program to find smallest number in a list?\n",
    "l3=[2,56,13,6]\n",
    "print(min(l3))"
   ]
  },
  {
   "cell_type": "code",
   "execution_count": 10,
   "metadata": {},
   "outputs": [
    {
     "name": "stdout",
     "output_type": "stream",
     "text": [
      "56\n"
     ]
    }
   ],
   "source": [
    "#4.\tWrite a Python program to find largest number in a list?\n",
    "l3=[2,56,13,6]\n",
    "print(max(l3))"
   ]
  },
  {
   "cell_type": "code",
   "execution_count": 11,
   "metadata": {},
   "outputs": [
    {
     "name": "stdout",
     "output_type": "stream",
     "text": [
      "13\n"
     ]
    }
   ],
   "source": [
    "#5.\tWrite a Python program to find second largest number in a list?\n",
    "l3=[2,56,13,6]\n",
    "l3.sort()\n",
    "l3.pop()\n",
    "print(max(l3))"
   ]
  },
  {
   "cell_type": "code",
   "execution_count": 44,
   "metadata": {},
   "outputs": [
    {
     "name": "stdout",
     "output_type": "stream",
     "text": [
      "[85, 41]\n"
     ]
    }
   ],
   "source": [
    "#6.\tWrite a Python program to find N largest elements from a list?\n",
    "def Nmaxelements(list1, N):\n",
    "    final_list = []\n",
    "  \n",
    "    for i in range(0, N): \n",
    "        max1 = 0\n",
    "          \n",
    "        for j in range(len(list1)):     \n",
    "            if list1[j] > max1:\n",
    "                max1 = list1[j];\n",
    "                  \n",
    "        list1.remove(max1);\n",
    "        final_list.append(max1)\n",
    "          \n",
    "    print(final_list)\n",
    "list1 = [2, 6, 41, 85, 0, 3, 7, 6, 10]\n",
    "N = 2    \n",
    "Nmaxelements(list1, N)"
   ]
  },
  {
   "cell_type": "code",
   "execution_count": 13,
   "metadata": {},
   "outputs": [
    {
     "name": "stdout",
     "output_type": "stream",
     "text": [
      "56 is even number\n",
      "78 is even number\n",
      "46 is even number\n",
      "92 is even number\n"
     ]
    }
   ],
   "source": [
    "#7.\tWrite a Python program to print even numbers in a list?\n",
    "l2=[23,56,78,9,43,46,92]\n",
    "for i in l2:\n",
    "    if (i%2==0):\n",
    "        print(i,'is even number')\n",
    "    else:\n",
    "        continue"
   ]
  },
  {
   "cell_type": "code",
   "execution_count": 14,
   "metadata": {},
   "outputs": [
    {
     "name": "stdout",
     "output_type": "stream",
     "text": [
      "23 is odd number\n",
      "9 is odd number\n",
      "43 is odd number\n"
     ]
    }
   ],
   "source": [
    "#8.\tWrite a Python program to print odd numbers in a List?\n",
    "l2=[23,56,78,9,43,46,92]\n",
    "for i in l2:\n",
    "    if (i%2!=0):\n",
    "        print(i,'is odd number')\n",
    "    else:\n",
    "        continue"
   ]
  },
  {
   "cell_type": "code",
   "execution_count": 15,
   "metadata": {},
   "outputs": [
    {
     "name": "stdout",
     "output_type": "stream",
     "text": [
      "[3, 6, 89, [], 24, []]\n",
      "[3, 6, 89, 24]\n"
     ]
    }
   ],
   "source": [
    "#9.\tWrite a Python program to Remove empty List from List?\n",
    "l3=[3,6,89,[],24,[]]\n",
    "print(l3)\n",
    "for i in l3:\n",
    "    if type(i)==list:\n",
    "        if len(i)==0:\n",
    "            l3.remove(i)\n",
    "    continue\n",
    "print(l3)"
   ]
  },
  {
   "cell_type": "code",
   "execution_count": 16,
   "metadata": {},
   "outputs": [
    {
     "name": "stdout",
     "output_type": "stream",
     "text": [
      "[3, 4, 6, 7, 8, 9]\n"
     ]
    }
   ],
   "source": [
    "#10.\tWrite a Python program to Cloning or Copying a list?\n",
    "l2=[3,4,6,7,8,9]\n",
    "l3=[]\n",
    "for i in l2:\n",
    "    l3.append(i)\n",
    "print(l3)"
   ]
  },
  {
   "cell_type": "code",
   "execution_count": 17,
   "metadata": {},
   "outputs": [
    {
     "name": "stdout",
     "output_type": "stream",
     "text": [
      "2 is repeated 1 times\n",
      "3 is repeated 2 times\n",
      "4 is repeated 2 times\n",
      "5 is repeated 2 times\n",
      "98 is repeated 1 times\n",
      "7 is repeated 1 times\n",
      "8 is repeated 1 times\n",
      "46 is repeated 2 times\n",
      "78 is repeated 1 times\n"
     ]
    }
   ],
   "source": [
    "#11.\tWrite a Python program to Count occurrences of an element in a list?\n",
    "l3=[2,3,4,5,98,46,78,3,4,5,7,46,8]\n",
    "l3.sort()\n",
    "for i in list(set(l3)):\n",
    "    c=0\n",
    "    for j in l3:\n",
    "        if i ==j:\n",
    "            c+=1\n",
    "    print(i,'is repeated',c,'times')            "
   ]
  },
  {
   "cell_type": "code",
   "execution_count": null,
   "metadata": {},
   "outputs": [],
   "source": []
  }
 ],
 "metadata": {
  "kernelspec": {
   "display_name": "Python 3",
   "language": "python",
   "name": "python3"
  },
  "language_info": {
   "codemirror_mode": {
    "name": "ipython",
    "version": 3
   },
   "file_extension": ".py",
   "mimetype": "text/x-python",
   "name": "python",
   "nbconvert_exporter": "python",
   "pygments_lexer": "ipython3",
   "version": "3.8.5"
  }
 },
 "nbformat": 4,
 "nbformat_minor": 4
}
