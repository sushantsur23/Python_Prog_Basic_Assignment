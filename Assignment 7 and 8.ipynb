{
 "cells": [
  {
   "cell_type": "markdown",
   "metadata": {},
   "source": [
    "Assignment 7"
   ]
  },
  {
   "cell_type": "code",
   "execution_count": 1,
   "metadata": {},
   "outputs": [
    {
     "name": "stdout",
     "output_type": "stream",
     "text": [
      "sum of the arrray is  190\n"
     ]
    }
   ],
   "source": [
    "#1.\tWrite a Python Program to find sum of array?\n",
    "import numpy as np\n",
    "a1 = np.arange(0,20,1)\n",
    "sum =0\n",
    "for i in range (0,len(a1)):\n",
    "    sum=sum+a1[i]\n",
    "print('sum of the arrray is ',sum)"
   ]
  },
  {
   "cell_type": "code",
   "execution_count": 2,
   "metadata": {},
   "outputs": [
    {
     "name": "stdout",
     "output_type": "stream",
     "text": [
      "19\n"
     ]
    }
   ],
   "source": [
    "#2.\tWrite a Python Program to find largest element in an array?\n",
    "import numpy as np\n",
    "a1 = np.arange(0,20,1)\n",
    "m=max(a1)\n",
    "print(m)"
   ]
  },
  {
   "cell_type": "code",
   "execution_count": 3,
   "metadata": {},
   "outputs": [
    {
     "name": "stdout",
     "output_type": "stream",
     "text": [
      "[[1 2 3]\n",
      " [4 5 6]\n",
      " [7 8 9]]\n"
     ]
    }
   ],
   "source": [
    "#3.\tWrite a Python Program for array rotation?\n",
    "import numpy as np\n",
    "a1 = np.array([1,2,3,4,5,6,7,8,9])\n",
    "print(a1.reshape(3,3))"
   ]
  },
  {
   "cell_type": "code",
   "execution_count": 9,
   "metadata": {},
   "outputs": [
    {
     "data": {
      "text/plain": [
       "array([[2, 3, 3],\n",
       "       [4, 5, 5],\n",
       "       [6, 7, 7],\n",
       "       [8, 9, 9]])"
      ]
     },
     "execution_count": 9,
     "metadata": {},
     "output_type": "execute_result"
    }
   ],
   "source": [
    "#4.\tWrite a Python Program to Split the array and add the first part to the end?\n",
    "import numpy as np\n",
    "a1=np.array([[2,3],[4,5],[6,7],[8,9]])\n",
    "a2=a1[...,1:]\n",
    "arr=np.hstack((a1,a2))\n",
    "arr"
   ]
  },
  {
   "cell_type": "code",
   "execution_count": null,
   "metadata": {},
   "outputs": [],
   "source": [
    "#5.\tWrite a Python Program to check if given array is Monotonic?\n",
    "def check(a):\n",
    "    return (all (a[i]<=a[i+1] for i in range (len(a)-1)) or\n",
    "            all (a[i]>=a[i+1] for i in range (len(a)-1)))\n",
    "a =[6,5,4,3]\n",
    "print(check(a))"
   ]
  },
  {
   "cell_type": "markdown",
   "metadata": {},
   "source": [
    "Assignment 8"
   ]
  },
  {
   "cell_type": "code",
   "execution_count": null,
   "metadata": {},
   "outputs": [],
   "source": [
    "#1.\tWrite a Python Program to Add Two Matrices?\n",
    "import numpy as np\n",
    "a1 = np.mat([[2,3],[4,6]])\n",
    "a2 = np.mat([[34,21],[43,12]])\n",
    "print(np.add(a1,a2))"
   ]
  },
  {
   "cell_type": "code",
   "execution_count": null,
   "metadata": {},
   "outputs": [],
   "source": [
    "#2.\tWrite a Python Program to Multiply Two Matrices?\n",
    "import numpy as np\n",
    "a1 = np.mat([[2,3],[4,6]])\n",
    "a2 = np.mat([[34,21],[43,12]])\n",
    "a3 = np.mat([[0,0],[0,0]])\n",
    "a3 = a1*a2\n",
    "print(a3)"
   ]
  },
  {
   "cell_type": "code",
   "execution_count": null,
   "metadata": {},
   "outputs": [],
   "source": [
    "#3.\tWrite a Python Program to Transpose a Matrix?\n",
    "import numpy as np\n",
    "a1 = np.mat([[2,3],[4,6]])\n",
    "print(np.transpose(a1))"
   ]
  },
  {
   "cell_type": "code",
   "execution_count": null,
   "metadata": {},
   "outputs": [],
   "source": [
    "#4.\tWrite a Python Program to Sort Words in Alphabetic Order?\n",
    "wrd = 'Charles Brown was an American blues singer and pianist whose soft-toned'\n",
    "word = [w for w in wrd.split()]\n",
    "word.sort()\n",
    "for w in word:\n",
    "    print(w)"
   ]
  },
  {
   "cell_type": "code",
   "execution_count": null,
   "metadata": {},
   "outputs": [],
   "source": [
    "#5.\tWrite a Python Program to Remove Punctuation From a String?\n",
    "s ='Charles Brown (September 13, 1922 – January 21, 1999) was an American blues singer and pianist whose soft-toned, slow-paced blues-club style influenced blues performance in the 1940s and 1950s.'\n",
    "punc =',-()–'\n",
    "for i in s:\n",
    "    if i in punc:\n",
    "        s =s.replace(i,' ')\n",
    "print(s)"
   ]
  },
  {
   "cell_type": "code",
   "execution_count": null,
   "metadata": {},
   "outputs": [],
   "source": []
  },
  {
   "cell_type": "code",
   "execution_count": null,
   "metadata": {},
   "outputs": [],
   "source": []
  }
 ],
 "metadata": {
  "kernelspec": {
   "display_name": "Python 3",
   "language": "python",
   "name": "python3"
  },
  "language_info": {
   "codemirror_mode": {
    "name": "ipython",
    "version": 3
   },
   "file_extension": ".py",
   "mimetype": "text/x-python",
   "name": "python",
   "nbconvert_exporter": "python",
   "pygments_lexer": "ipython3",
   "version": "3.8.5"
  }
 },
 "nbformat": 4,
 "nbformat_minor": 4
}
