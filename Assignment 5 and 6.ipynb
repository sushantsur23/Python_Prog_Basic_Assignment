{
 "cells": [
  {
   "cell_type": "markdown",
   "metadata": {},
   "source": [
    "Assignment 5"
   ]
  },
  {
   "cell_type": "code",
   "execution_count": null,
   "metadata": {},
   "outputs": [],
   "source": [
    "#1.\tWrite a Python Program to Find LCM?\n",
    "\n"
   ]
  },
  {
   "cell_type": "code",
   "execution_count": 3,
   "metadata": {},
   "outputs": [
    {
     "name": "stdout",
     "output_type": "stream",
     "text": [
      "HCF of 50 and 100 is: 50\n"
     ]
    }
   ],
   "source": [
    "#2.\tWrite a Python Program to Find HCF?\n",
    "x = 50\n",
    "y = 100\n",
    "if x > y:\n",
    "    x, y = y, x\n",
    "for i in range(1,x+1):\n",
    "    if x%i == 0 and y%i == 0:\n",
    "        hcf = i\n",
    "\n",
    "print(\"HCF of\", x, \"and\", y, \"is:\", hcf)"
   ]
  },
  {
   "cell_type": "code",
   "execution_count": null,
   "metadata": {},
   "outputs": [],
   "source": [
    "#3.\tWrite a Python Program to Convert Decimal to Binary, Octal and Hexadecimal?\n",
    "def convertBinary(n):\n",
    "    if n > 1:\n",
    "        convertToBinary(n//2)\n",
    "    print(n % 2,end = '')\n",
    "convertBinary(34)\n",
    "\n",
    "\n",
    "    \n"
   ]
  },
  {
   "cell_type": "code",
   "execution_count": 19,
   "metadata": {},
   "outputs": [
    {
     "name": "stdout",
     "output_type": "stream",
     "text": [
      "100010"
     ]
    }
   ],
   "source": [
    "arr=[]\n",
    "def convertOct(n):\n",
    "    if n > 1:\n",
    "        arr.append(n%8)\n",
    "        \n"
   ]
  },
  {
   "cell_type": "code",
   "execution_count": 22,
   "metadata": {},
   "outputs": [
    {
     "data": {
      "text/plain": [
       "2"
      ]
     },
     "execution_count": 22,
     "metadata": {},
     "output_type": "execute_result"
    }
   ],
   "source": [
    "16//8"
   ]
  },
  {
   "cell_type": "code",
   "execution_count": 17,
   "metadata": {},
   "outputs": [
    {
     "data": {
      "text/plain": [
       "1"
      ]
     },
     "execution_count": 17,
     "metadata": {},
     "output_type": "execute_result"
    }
   ],
   "source": [
    "17%2"
   ]
  },
  {
   "cell_type": "code",
   "execution_count": 8,
   "metadata": {},
   "outputs": [
    {
     "name": "stdout",
     "output_type": "stream",
     "text": [
      "The ASCII value is 65\n"
     ]
    }
   ],
   "source": [
    "#4.\tWrite a Python Program To Find ASCII value of a character?\n",
    "a = 'A'\n",
    "print('The ASCII value is', ord(a))"
   ]
  },
  {
   "cell_type": "code",
   "execution_count": 13,
   "metadata": {},
   "outputs": [
    {
     "name": "stdout",
     "output_type": "stream",
     "text": [
      "Enter add for addition, diff for difference, mul for multiplication, div for division  add\n",
      "Enter a number for calculation  2\n",
      "Enter a number for calculation  4\n",
      "Addition of n1 and n2 is  6\n"
     ]
    }
   ],
   "source": [
    "#5.\tWrite a Python Program to Make a Simple Calculator with 4 basic mathematical operations?\n",
    "calc =input(\"Enter add for addition, diff for difference, mul for multiplication, div for division  \")\n",
    "n1= int(input(\"Enter a number for calculation  \"))\n",
    "n2= int(input(\"Enter a number for calculation  \"))\n",
    "if (calc =='add'):\n",
    "    print(\"Addition of n1 and n2 is \", n1+n2)\n",
    "elif (calc =='diff'):\n",
    "    print(\"Difference of n1 and n2 is \", n1-n2)\n",
    "elif (calc =='mul'):\n",
    "    print(\"Product of n1 and n2 is \", n1*n2)\n",
    "else:\n",
    "    print(\"Quotient for n1 and n2 is\", n1/n2)"
   ]
  },
  {
   "cell_type": "markdown",
   "metadata": {},
   "source": [
    "Assignment 6"
   ]
  },
  {
   "cell_type": "code",
   "execution_count": 10,
   "metadata": {},
   "outputs": [
    {
     "name": "stdout",
     "output_type": "stream",
     "text": [
      "Fibonacci series is\n",
      "0\n",
      "1\n",
      "1\n",
      "2\n",
      "3\n",
      "5\n",
      "8\n",
      "13\n",
      "21\n",
      "34\n"
     ]
    }
   ],
   "source": [
    "#1.\tWrite a Python Program to Display Fibonacci Sequence Using Recursion?\n",
    "def Fibonacci(n):\n",
    "    if n<=1:\n",
    "        return n\n",
    "    else: \n",
    "        return (Fibonacci(n-1)+Fibonacci(n-2))\n",
    "nterm= 10\n",
    "if nterm<=0:\n",
    "    print(\"Please enter a positive number \")\n",
    "else:\n",
    "    print('Fibonacci series is')\n",
    "    for i in range(nterm):\n",
    "        print(Fibonacci(i))"
   ]
  },
  {
   "cell_type": "code",
   "execution_count": 12,
   "metadata": {},
   "outputs": [],
   "source": [
    "#2.\tWrite a Python Program to Find Factorial of Number Using Recursion?\n",
    "\n",
    "def fn(n1):\n",
    "    n2=1\n",
    "    for i in range(2,n1+1):\n",
    "        if n1<=1:\n",
    "            print(\"Factorial is 1\")\n",
    "        else:\n",
    "            n2=n2*i\n",
    "        i +=1\n",
    "    print(\"Factorial is\", n2)\n"
   ]
  },
  {
   "cell_type": "code",
   "execution_count": 13,
   "metadata": {},
   "outputs": [
    {
     "name": "stdout",
     "output_type": "stream",
     "text": [
      "Factorial is 2432902008176640000\n"
     ]
    }
   ],
   "source": [
    "fn(20)"
   ]
  },
  {
   "cell_type": "code",
   "execution_count": 26,
   "metadata": {},
   "outputs": [
    {
     "name": "stdout",
     "output_type": "stream",
     "text": [
      "Enter height of a person in metres 6\n",
      "Enter weight of a person in Kgs 78\n",
      "BMI of the person is  2.1666666666666665\n"
     ]
    }
   ],
   "source": [
    "#3.\tWrite a Python Program to calculate your Body Mass Index?\n",
    "height=float(input(\"Enter height of a person in metres \"))\n",
    "weight=float(input(\"Enter weight of a person in Kgs \"))\n",
    "print(\"BMI of the person is \",weight/(height**2))"
   ]
  },
  {
   "cell_type": "code",
   "execution_count": 19,
   "metadata": {},
   "outputs": [
    {
     "name": "stdout",
     "output_type": "stream",
     "text": [
      "Enter a number to calcuate log 20\n",
      "Log value is 2.995732273553991\n"
     ]
    }
   ],
   "source": [
    "#4.\tWrite a Python Program to calculate the natural logarithm of any number?\n",
    "import math\n",
    "n=int(input(\"Enter a number to calcuate log \"))\n",
    "print(\"Log value is\",math.log(n))"
   ]
  },
  {
   "cell_type": "code",
   "execution_count": 20,
   "metadata": {},
   "outputs": [
    {
     "name": "stdout",
     "output_type": "stream",
     "text": [
      "Enter a number to calcuate log 20\n",
      "Log value is 2.995732273553991\n"
     ]
    }
   ],
   "source": [
    "import numpy as np\n",
    "n=int(input(\"Enter a number to calcuate log \"))\n",
    "print(\"Log value is\",np.log(n))"
   ]
  },
  {
   "cell_type": "code",
   "execution_count": 15,
   "metadata": {},
   "outputs": [
    {
     "name": "stdout",
     "output_type": "stream",
     "text": [
      "Enter a number  4\n",
      "Cube sum of first n natural numbers is 216\n"
     ]
    }
   ],
   "source": [
    "#5.\tWrite a Python Program for cube sum of first n natural numbers?\n",
    "n=int(input(\"Enter a number  \"))\n",
    "sum=0\n",
    "for i in range(0,n):\n",
    "    sum=sum+i\n",
    "print(\"Cube sum of first n natural numbers is\",sum**3)"
   ]
  },
  {
   "cell_type": "code",
   "execution_count": null,
   "metadata": {},
   "outputs": [],
   "source": []
  },
  {
   "cell_type": "code",
   "execution_count": null,
   "metadata": {},
   "outputs": [],
   "source": []
  }
 ],
 "metadata": {
  "kernelspec": {
   "display_name": "Python 3",
   "language": "python",
   "name": "python3"
  },
  "language_info": {
   "codemirror_mode": {
    "name": "ipython",
    "version": 3
   },
   "file_extension": ".py",
   "mimetype": "text/x-python",
   "name": "python",
   "nbconvert_exporter": "python",
   "pygments_lexer": "ipython3",
   "version": "3.8.5"
  }
 },
 "nbformat": 4,
 "nbformat_minor": 4
}
